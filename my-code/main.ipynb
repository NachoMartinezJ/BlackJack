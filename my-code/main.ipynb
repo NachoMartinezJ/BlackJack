{
 "cells": [
  {
   "cell_type": "code",
   "execution_count": 10,
   "metadata": {},
   "outputs": [],
   "source": [
    "import random"
   ]
  },
  {
   "cell_type": "code",
   "execution_count": 11,
   "metadata": {},
   "outputs": [],
   "source": [
    "# We define the deck the players will use\n",
    "face_cards = {'A':[11, 1], 'K': 10, 'Q': 10, 'J': 10}\n",
    "useful_deck = ['A', 'K', 'Q', 'J', 10, 9, 8, 7, 6, 5, 4, 3, 2]\n"
   ]
  },
  {
   "cell_type": "code",
   "execution_count": 12,
   "metadata": {},
   "outputs": [],
   "source": [
    "# Define the player and the dealer, they will store the points of the cards dealt to them.\n"
   ]
  },
  {
   "cell_type": "code",
   "execution_count": 13,
   "metadata": {},
   "outputs": [],
   "source": [
    "# First we ask the user to place the bet.\n",
    "def place_bet():\n",
    "    user_input = input('Please, introduce your bet: ')\n",
    "    \n",
    "    if(user_input.isdigit()):\n",
    "        return int(user_input)    \n",
    "    else:\n",
    "        print('You introduced a non valid character. Please introduce a number')"
   ]
  },
  {
   "cell_type": "code",
   "execution_count": 14,
   "metadata": {},
   "outputs": [],
   "source": [
    "# Deal the first two cards.\n",
    "def deal_first_hand():\n",
    "    return [random.choice(useful_deck) for i in range(2)]"
   ]
  },
  {
   "cell_type": "code",
   "execution_count": 15,
   "metadata": {},
   "outputs": [],
   "source": [
    "# Deal an additional card.\n",
    "def deal_card():\n",
    "    return random.choice(useful_deck)"
   ]
  },
  {
   "cell_type": "code",
   "execution_count": 16,
   "metadata": {},
   "outputs": [],
   "source": [
    "# Choose value of Ace, we'll use it when asking the player which value does he want for the Ace.\n",
    "def parse_ace_value(hand, value):\n",
    "    for i in range(len(hand)):\n",
    "        if(hand[i] == 'A'):\n",
    "            hand[i] = value\n",
    "\n",
    "    return hand\n",
    "    "
   ]
  },
  {
   "cell_type": "code",
   "execution_count": 17,
   "metadata": {},
   "outputs": [],
   "source": [
    "# Check natural blackjack, we parse Ace to 11 automatically.\n",
    "def natural_blackjack(hand):\n",
    "    parse_ace_value(hand, 11)\n",
    "    parse_face_cards(hand)\n",
    "    return sum(hand[:2]) == 21\n"
   ]
  },
  {
   "cell_type": "code",
   "execution_count": 18,
   "metadata": {},
   "outputs": [],
   "source": [
    "# Check if player has two cards of the same denomination.\n",
    "def check_denomination(hand):\n",
    "    return hand[0] == hand[1]\n"
   ]
  },
  {
   "cell_type": "code",
   "execution_count": 19,
   "metadata": {},
   "outputs": [],
   "source": [
    "# Check if player's cards sum 9, 10 or 11\n",
    "def check_double_down(hand):\n",
    "    result = sum(hand[:2])\n",
    "    return result == 9 or result == 10 or result == 11"
   ]
  },
  {
   "cell_type": "code",
   "execution_count": 20,
   "metadata": {},
   "outputs": [],
   "source": [
    "# Sum the value of the cards\n",
    "def check_score(hand):\n",
    "    if('A' in hand):\n",
    "        p_input = int(input(\"Would you like your ace to be a 1 or an 11? \"))\n",
    "        parse_ace_value(hand, p_input)\n",
    "    parse_face_cards(hand)\n",
    "    return sum(hand)\n"
   ]
  },
  {
   "cell_type": "code",
   "execution_count": 21,
   "metadata": {},
   "outputs": [],
   "source": [
    "# Compare the hand of the dealer and the player.\n",
    "def compare_hands(p_hand, d_hand):\n",
    "    p_score = check_score(p_hand)\n",
    "    d_score = check_score(d_hand)\n",
    "    \n",
    "    if(p_score > 21):\n",
    "        print(\"You bust with %d points. Dealer wins\" %p_score)\n",
    "    elif(d_score > 21):\n",
    "        print(\"Dealer busts with %d points. Players wins\" %d_score)\n",
    "    elif(p_score == d_score):\n",
    "        print(\"There has been a tie. Player points: %d and hand: %s. Dealer points: %d and hand: %s\" %(p_score, p_hand, d_score, d_hand))\n",
    "    \n",
    "    elif(p_score > d_score):\n",
    "        print(\"Player wins with %d points with the hand %s\" %(p_score, p_hand))\n",
    "\n",
    "    elif(p_score < d_score):\n",
    "        print(\"Dealer wins with %d points with the hand %s\" %(d_score, d_hand)) "
   ]
  },
  {
   "cell_type": "code",
   "execution_count": 22,
   "metadata": {},
   "outputs": [],
   "source": [
    "# Check if the player has less than 21 points, to give him a new card.\n",
    "def hit(hand):\n",
    "    new_card = deal_card()\n",
    "    \n",
    "    if(check_score(hand) < 21):\n",
    "        hand.append(new_card)\n",
    "        return new_card\n",
    "    \n",
    "    else:\n",
    "        print(\"You cannot ask for more cards\")"
   ]
  },
  {
   "cell_type": "code",
   "execution_count": 23,
   "metadata": {},
   "outputs": [],
   "source": [
    "# Change the value of the face cards, minus the ace, to its point value.\n",
    "def parse_face_cards(hand):\n",
    "    for i in range(len(hand)):\n",
    "        if(hand[i] == 'K'):\n",
    "            hand[i] = face_cards['K']\n",
    "            \n",
    "        if(hand[i] == 'Q'):\n",
    "            hand[i] = face_cards['Q']\n",
    "            \n",
    "        if(hand[i] == 'J'):\n",
    "            hand[i] = face_cards['J']\n",
    "            \n",
    "    return hand\n",
    "    "
   ]
  },
  {
   "cell_type": "code",
   "execution_count": 36,
   "metadata": {},
   "outputs": [],
   "source": [
    "def dealer_play(hand):\n",
    "    while(check_score(hand) <= 14):\n",
    "        hit(hand)\n",
    "    print(\"Dealer's hand: \", hand)\n",
    "    return hand"
   ]
  },
  {
   "cell_type": "code",
   "execution_count": 37,
   "metadata": {},
   "outputs": [],
   "source": [
    "def play():\n",
    "    bet = place_bet()\n",
    "    player_hand = [9, 2]\n",
    "    dealer_hand = ['A', 10]\n",
    "    player_wins = False\n",
    "    dealer_wins = False\n",
    "    \n",
    "    while(player_wins == False and dealer_wins == False):\n",
    "        if(bet == None):\n",
    "            break;\n",
    "        player_hand = deal_first_hand()\n",
    "        print(player_hand)        \n",
    "        dealer_hand = deal_first_hand()\n",
    "        print(dealer_hand[0])\n",
    "        \n",
    "        if(natural_blackjack(player_hand)):\n",
    "            print(\"Player wins with a natural blackjack!\", player_hand)\n",
    "            player_wins = True\n",
    "            continue;\n",
    "            \n",
    "        elif(natural_blackjack(dealer_hand)):\n",
    "            print(\"Dealer wins with a natural blackjack!\", dealer_hand)\n",
    "            dealer_wins = True\n",
    "            continue;\n",
    "            \n",
    "        elif(check_double_down(player_hand)):\n",
    "            response = input(\"Would you like to double down? (Y/N):\")\n",
    "            if(response == 'Y'):\n",
    "                bet += bet\n",
    "                print(\"Your bet has doubled, now you're playing with: %d\" %bet)\n",
    "                \n",
    "        response = input(\"Would you line another card? (Y/N): \")\n",
    "        if(response == 'Y'):\n",
    "            hit(player_hand)\n",
    "        if(response == 'N'):\n",
    "            dealer_play(dealer_hand)\n",
    "            compare_hands(player_hand, dealer_hand)\n",
    "            break;\n",
    "            \n",
    "            \n",
    "            \n",
    "        \n",
    "        print(player_hand)\n",
    "        if(check_score(player_hand) > 21):\n",
    "            print(\"You bust. Dealer wins\")\n",
    "            break;\n",
    "        \n",
    "        \n",
    "        \n",
    "                \n",
    "        \n",
    "        "
   ]
  },
  {
   "cell_type": "code",
   "execution_count": null,
   "metadata": {},
   "outputs": [
    {
     "name": "stdout",
     "output_type": "stream",
     "text": [
      "Please, introduce your bet: 100\n",
      "[4, 4]\n",
      "8\n",
      "Would you line another card? (Y/N): Y\n",
      "[4, 4, 5]\n",
      "['J', 'J']\n",
      "10\n"
     ]
    }
   ],
   "source": [
    "\n",
    "\n",
    "play()"
   ]
  },
  {
   "cell_type": "code",
   "execution_count": null,
   "metadata": {},
   "outputs": [],
   "source": [
    "a = False\n",
    "while(a != True):\n",
    "    for i in range(5):\n",
    "        print(\"aasdfasdfasf\")\n",
    "        if(i == 3):\n",
    "            a = True"
   ]
  },
  {
   "cell_type": "code",
   "execution_count": 71,
   "metadata": {},
   "outputs": [
    {
     "data": {
      "text/plain": [
       "True"
      ]
     },
     "execution_count": 71,
     "metadata": {},
     "output_type": "execute_result"
    }
   ],
   "source": [
    "a"
   ]
  },
  {
   "cell_type": "code",
   "execution_count": 76,
   "metadata": {},
   "outputs": [
    {
     "data": {
      "text/plain": [
       "False"
      ]
     },
     "execution_count": 76,
     "metadata": {},
     "output_type": "execute_result"
    }
   ],
   "source": [
    "player_wins"
   ]
  },
  {
   "cell_type": "code",
   "execution_count": null,
   "metadata": {},
   "outputs": [],
   "source": []
  },
  {
   "cell_type": "code",
   "execution_count": null,
   "metadata": {},
   "outputs": [],
   "source": []
  }
 ],
 "metadata": {
  "kernelspec": {
   "display_name": "Python 3",
   "language": "python",
   "name": "python3"
  },
  "language_info": {
   "codemirror_mode": {
    "name": "ipython",
    "version": 3
   },
   "file_extension": ".py",
   "mimetype": "text/x-python",
   "name": "python",
   "nbconvert_exporter": "python",
   "pygments_lexer": "ipython3",
   "version": "3.7.1"
  }
 },
 "nbformat": 4,
 "nbformat_minor": 2
}
