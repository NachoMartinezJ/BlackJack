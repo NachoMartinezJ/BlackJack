{
 "cells": [
  {
   "cell_type": "code",
   "execution_count": 124,
   "metadata": {},
   "outputs": [],
   "source": [
    "import random"
   ]
  },
  {
   "cell_type": "code",
   "execution_count": 125,
   "metadata": {},
   "outputs": [],
   "source": [
    "# We define the deck the players will use\n",
    "face_cards = {'A':[11, 1], 'K': 10, 'Q': 10, 'J': 10}\n",
    "useful_deck = ['A', 'K', 'Q', 'J', 10, 9, 8, 7, 6, 5, 4, 3, 2]\n"
   ]
  },
  {
   "cell_type": "code",
   "execution_count": 126,
   "metadata": {},
   "outputs": [],
   "source": [
    "# Define the player and the dealer, they will store the points of the cards dealt to them.\n"
   ]
  },
  {
   "cell_type": "code",
   "execution_count": 127,
   "metadata": {},
   "outputs": [],
   "source": [
    "# First we ask the user to place the bet.\n",
    "def place_bet():\n",
    "    bet = int(input('Please, introduce your bet: '))\n",
    "    if(bet is int):\n",
    "        return 1\n",
    "    else:\n",
    "        ('You introduced a non valid character. Please introduce a number')"
   ]
  },
  {
   "cell_type": "code",
   "execution_count": 128,
   "metadata": {},
   "outputs": [],
   "source": [
    "# Deal the first two cards.\n",
    "def deal_first_hand():\n",
    "    return [random.choice(useful_deck) for i in range(2)]"
   ]
  },
  {
   "cell_type": "code",
   "execution_count": 129,
   "metadata": {},
   "outputs": [],
   "source": [
    "# Deal an additional card.\n",
    "def deal_card():\n",
    "    return random.choice(useful_deck)"
   ]
  },
  {
   "cell_type": "code",
   "execution_count": 130,
   "metadata": {},
   "outputs": [],
   "source": [
    "# Choose value of Ace, we'll use it when asking the player which value does he want for the Ace.\n",
    "def parse_ace_value(hand, value):\n",
    "    for i in range(len(hand)):\n",
    "        if(hand[i] == 'A'):\n",
    "            hand[i] = value\n",
    "\n",
    "    return hand\n",
    "    "
   ]
  },
  {
   "cell_type": "code",
   "execution_count": 131,
   "metadata": {},
   "outputs": [],
   "source": [
    "# Check natural blackjack, we parse Ace to 11 automatically.\n",
    "def natural_blackjack(hand):\n",
    "    parse_ace_value(hand, 11)\n",
    "    parse_face_cards(hand)\n",
    "    return sum(hand[:2]) == 21\n"
   ]
  },
  {
   "cell_type": "code",
   "execution_count": 132,
   "metadata": {},
   "outputs": [],
   "source": [
    "# Check if player has two cards of the same denomination.\n",
    "def check_denomination(hand):\n",
    "    return hand[0] == hand[1]\n"
   ]
  },
  {
   "cell_type": "code",
   "execution_count": 133,
   "metadata": {},
   "outputs": [],
   "source": [
    "# Check if player's cards sum 9, 10 or 11\n",
    "def check_double_down(hand):\n",
    "    result = sum(hand[:2])\n",
    "    return result == 9 or result == 10 or result == 11"
   ]
  },
  {
   "cell_type": "code",
   "execution_count": 134,
   "metadata": {},
   "outputs": [],
   "source": [
    "# Sum the value of the cards\n",
    "def check_score(hand):\n",
    "    return sum(hand)"
   ]
  },
  {
   "cell_type": "code",
   "execution_count": 135,
   "metadata": {},
   "outputs": [],
   "source": [
    "# Compare the hand of the dealer and the player.\n",
    "def compare_hands(p_hand, d_hand):\n",
    "    p_score = check_score(p_hand)\n",
    "    d_score = check_score(d_hand)\n",
    "    \n",
    "    if(p_score == d_score):\n",
    "        return False, False\n",
    "    \n",
    "    elif(p_score > d_score):\n",
    "        return True, False\n",
    "    \n",
    "    elif(p_score < d_score):\n",
    "        return False, True"
   ]
  },
  {
   "cell_type": "code",
   "execution_count": 136,
   "metadata": {},
   "outputs": [],
   "source": [
    "# Check if the player has less than 21 points, to give him a new card.\n",
    "def hit(hand):\n",
    "    new_card = deal_card()\n",
    "    \n",
    "    if(check_score(hand) < 21):\n",
    "        hand.append(new_card)\n",
    "        return new_card\n",
    "    \n",
    "    else:\n",
    "        print(\"You cannot ask for more cards\")"
   ]
  },
  {
   "cell_type": "code",
   "execution_count": 137,
   "metadata": {},
   "outputs": [],
   "source": [
    "# Change the value of the face cards, minus the ace, to its point value.\n",
    "def parse_face_cards(hand):\n",
    "    for i in range(len(hand)):\n",
    "        if(hand[i] == 'K'):\n",
    "            hand[i] = face_cards['K']\n",
    "            \n",
    "        if(hand[i] == 'Q'):\n",
    "            hand[i] = face_cards['Q']\n",
    "            \n",
    "        if(hand[i] == 'J'):\n",
    "            hand[i] = face_cards['J']\n",
    "            \n",
    "    return hand\n",
    "    "
   ]
  },
  {
   "cell_type": "code",
   "execution_count": 140,
   "metadata": {},
   "outputs": [],
   "source": [
    "def play():\n",
    "    bet = 0\n",
    "    player_hand = [9, 2]\n",
    "    dealer_hand = []\n",
    "    player_wins = False\n",
    "    dealer_wins = False\n",
    "    \n",
    "    while(player_wins == False and dealer_wins ==False):\n",
    "        place_bet()\n",
    "        #player_hand = deal_first_hand()\n",
    "        print(player_hand)\n",
    "        \n",
    "        dealer_hand = deal_first_hand()\n",
    "        print(dealer_hand[0])\n",
    "        \n",
    "        if(natural_blackjack(player_hand)):\n",
    "            print(\"Player wins with a natural blackjack!\", player_hand)\n",
    "            player_wins = True\n",
    "            continue;\n",
    "            \n",
    "        elif(natural_blackjack(dealer_hand)):\n",
    "            print(\"Dealer wins with a natural blackjack!\")\n",
    "            print(dealer_hand)\n",
    "            dealer_wins = True\n",
    "            continue;\n",
    "            \n",
    "        elif(check_double_down(player_hand)):\n",
    "            response = input(\"Would you like to double down? (Y/N):\")\n",
    "            if(response == 'Y'):\n",
    "                bet += bet\n",
    "                print(\"Your bet has doubled, now you're playing with: %d\" %bet)\n",
    "        response = input(\"Would you line another card? (Y/N): \")\n",
    "        if (response == 'Y'):\n",
    "            player_hand.append(hit(player_hand))\n",
    "            \n",
    "        \n",
    "                \n",
    "        \n",
    "        "
   ]
  },
  {
   "cell_type": "code",
   "execution_count": 141,
   "metadata": {},
   "outputs": [
    {
     "name": "stdout",
     "output_type": "stream",
     "text": [
      "Please, introduce your bet: 100\n",
      "[9, 2]\n",
      "10\n",
      "Would you like to double down? (Y/N):Y\n",
      "Your bet has doubled, now you're playing with: 0\n",
      "Would you line another card? (Y/N): Y\n"
     ]
    },
    {
     "ename": "TypeError",
     "evalue": "hit() missing 1 required positional argument: 'hand'",
     "output_type": "error",
     "traceback": [
      "\u001b[0;31m---------------------------------------------------------------------------\u001b[0m",
      "\u001b[0;31mTypeError\u001b[0m                                 Traceback (most recent call last)",
      "\u001b[0;32m<ipython-input-141-66ae85965192>\u001b[0m in \u001b[0;36m<module>\u001b[0;34m\u001b[0m\n\u001b[1;32m      1\u001b[0m \u001b[0;34m\u001b[0m\u001b[0m\n\u001b[1;32m      2\u001b[0m \u001b[0;34m\u001b[0m\u001b[0m\n\u001b[0;32m----> 3\u001b[0;31m \u001b[0mplay\u001b[0m\u001b[0;34m(\u001b[0m\u001b[0;34m)\u001b[0m\u001b[0;34m\u001b[0m\u001b[0;34m\u001b[0m\u001b[0m\n\u001b[0m",
      "\u001b[0;32m<ipython-input-140-b3a1e2777ecf>\u001b[0m in \u001b[0;36mplay\u001b[0;34m()\u001b[0m\n\u001b[1;32m     32\u001b[0m         \u001b[0mresponse\u001b[0m \u001b[0;34m=\u001b[0m \u001b[0minput\u001b[0m\u001b[0;34m(\u001b[0m\u001b[0;34m\"Would you line another card? (Y/N): \"\u001b[0m\u001b[0;34m)\u001b[0m\u001b[0;34m\u001b[0m\u001b[0;34m\u001b[0m\u001b[0m\n\u001b[1;32m     33\u001b[0m         \u001b[0;32mif\u001b[0m \u001b[0;34m(\u001b[0m\u001b[0mresponse\u001b[0m \u001b[0;34m==\u001b[0m \u001b[0;34m'Y'\u001b[0m\u001b[0;34m)\u001b[0m\u001b[0;34m:\u001b[0m\u001b[0;34m\u001b[0m\u001b[0;34m\u001b[0m\u001b[0m\n\u001b[0;32m---> 34\u001b[0;31m             \u001b[0mplayer_hand\u001b[0m\u001b[0;34m.\u001b[0m\u001b[0mappend\u001b[0m\u001b[0;34m(\u001b[0m\u001b[0mhit\u001b[0m\u001b[0;34m(\u001b[0m\u001b[0;34m)\u001b[0m\u001b[0;34m)\u001b[0m\u001b[0;34m\u001b[0m\u001b[0;34m\u001b[0m\u001b[0m\n\u001b[0m\u001b[1;32m     35\u001b[0m \u001b[0;34m\u001b[0m\u001b[0m\n\u001b[1;32m     36\u001b[0m \u001b[0;34m\u001b[0m\u001b[0m\n",
      "\u001b[0;31mTypeError\u001b[0m: hit() missing 1 required positional argument: 'hand'"
     ]
    }
   ],
   "source": [
    "\n",
    "\n",
    "play()"
   ]
  },
  {
   "cell_type": "code",
   "execution_count": 70,
   "metadata": {},
   "outputs": [
    {
     "name": "stdout",
     "output_type": "stream",
     "text": [
      "aasdfasdfasf\n",
      "aasdfasdfasf\n",
      "aasdfasdfasf\n",
      "aasdfasdfasf\n",
      "aasdfasdfasf\n"
     ]
    }
   ],
   "source": [
    "a = False\n",
    "while(a != True):\n",
    "    for i in range(5):\n",
    "        print(\"aasdfasdfasf\")\n",
    "        if(i == 3):\n",
    "            a = True"
   ]
  },
  {
   "cell_type": "code",
   "execution_count": 71,
   "metadata": {},
   "outputs": [
    {
     "data": {
      "text/plain": [
       "True"
      ]
     },
     "execution_count": 71,
     "metadata": {},
     "output_type": "execute_result"
    }
   ],
   "source": [
    "a"
   ]
  },
  {
   "cell_type": "code",
   "execution_count": 76,
   "metadata": {},
   "outputs": [
    {
     "data": {
      "text/plain": [
       "False"
      ]
     },
     "execution_count": 76,
     "metadata": {},
     "output_type": "execute_result"
    }
   ],
   "source": [
    "player_wins"
   ]
  },
  {
   "cell_type": "code",
   "execution_count": null,
   "metadata": {},
   "outputs": [],
   "source": []
  },
  {
   "cell_type": "code",
   "execution_count": null,
   "metadata": {},
   "outputs": [],
   "source": []
  }
 ],
 "metadata": {
  "kernelspec": {
   "display_name": "Python 3",
   "language": "python",
   "name": "python3"
  },
  "language_info": {
   "codemirror_mode": {
    "name": "ipython",
    "version": 3
   },
   "file_extension": ".py",
   "mimetype": "text/x-python",
   "name": "python",
   "nbconvert_exporter": "python",
   "pygments_lexer": "ipython3",
   "version": "3.7.1"
  }
 },
 "nbformat": 4,
 "nbformat_minor": 2
}
